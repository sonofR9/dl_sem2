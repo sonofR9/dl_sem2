{
 "cells": [
  {
   "cell_type": "code",
   "execution_count": 117,
   "id": "8cc148dc-d83d-4c32-bbb0-3ffd82ba4e98",
   "metadata": {},
   "outputs": [],
   "source": [
    "import numpy as np\n",
    "import pandas as pd\n",
    "import matplotlib.pyplot as plt\n",
    "\n",
    "from sklearn.linear_model import LinearRegression\n",
    "from sklearn.model_selection import train_test_split\n",
    "from sklearn.metrics import r2_score\n",
    "from sklearn.preprocessing import MinMaxScaler\n",
    "\n",
    "%matplotlib inline"
   ]
  },
  {
   "cell_type": "markdown",
   "id": "e3a06e1e-3bc0-4667-84f3-7e86698c3737",
   "metadata": {},
   "source": [
    "# Загружаем выборку Diamonds"
   ]
  },
  {
   "cell_type": "markdown",
   "id": "c731a143-3dc9-43e7-96f5-b1eff9093345",
   "metadata": {},
   "source": [
    "1. PRICE: price in US dollars (326-18,823)\n",
    "2. CARAT: weight of the diamond (0.2--5.01)\n",
    "3. CUT: quality of the cut (Fair, Good, Very Good, Premium, Ideal)\n",
    "4. COLOR: diamond colour, from J (worst) to D (best)\n",
    "5. CLARITY: a measurement of how clear the diamond is (I1 (worst), SI2, SI1, VS2, VS1, VVS2, VVS1, IF (best))\n",
    "6. X: length in mm (0--10.74)\n",
    "7. Y: width in mm (0--58.9)\n",
    "8. Z: depth in mm (0--31.8)\n",
    "9. DEPTH: total depth percentage = z / mean(x, y) = 2 * z / (x + y) (43--79)\n",
    "10. TABLE: width of top of diamond relative to widest point (43--95)"
   ]
  },
  {
   "cell_type": "code",
   "execution_count": 118,
   "id": "0f24cf86-653a-422b-9df1-8029fdccf153",
   "metadata": {},
   "outputs": [],
   "source": [
    "diamonds_df = pd.read_csv(\"diamonds.csv\")"
   ]
  },
  {
   "cell_type": "code",
   "execution_count": 119,
   "id": "70d9ccfe-e1cf-4c90-a5ab-40ae0852f1ce",
   "metadata": {},
   "outputs": [
    {
     "data": {
      "text/html": [
       "<div>\n",
       "<style scoped>\n",
       "    .dataframe tbody tr th:only-of-type {\n",
       "        vertical-align: middle;\n",
       "    }\n",
       "\n",
       "    .dataframe tbody tr th {\n",
       "        vertical-align: top;\n",
       "    }\n",
       "\n",
       "    .dataframe thead th {\n",
       "        text-align: right;\n",
       "    }\n",
       "</style>\n",
       "<table border=\"1\" class=\"dataframe\">\n",
       "  <thead>\n",
       "    <tr style=\"text-align: right;\">\n",
       "      <th></th>\n",
       "      <th>Unnamed: 0</th>\n",
       "      <th>carat</th>\n",
       "      <th>cut</th>\n",
       "      <th>color</th>\n",
       "      <th>clarity</th>\n",
       "      <th>depth</th>\n",
       "      <th>table</th>\n",
       "      <th>price</th>\n",
       "      <th>x</th>\n",
       "      <th>y</th>\n",
       "      <th>z</th>\n",
       "    </tr>\n",
       "  </thead>\n",
       "  <tbody>\n",
       "    <tr>\n",
       "      <th>0</th>\n",
       "      <td>1</td>\n",
       "      <td>0.23</td>\n",
       "      <td>Ideal</td>\n",
       "      <td>E</td>\n",
       "      <td>SI2</td>\n",
       "      <td>61.5</td>\n",
       "      <td>55.0</td>\n",
       "      <td>326</td>\n",
       "      <td>3.95</td>\n",
       "      <td>3.98</td>\n",
       "      <td>2.43</td>\n",
       "    </tr>\n",
       "    <tr>\n",
       "      <th>1</th>\n",
       "      <td>2</td>\n",
       "      <td>0.21</td>\n",
       "      <td>Premium</td>\n",
       "      <td>E</td>\n",
       "      <td>SI1</td>\n",
       "      <td>59.8</td>\n",
       "      <td>61.0</td>\n",
       "      <td>326</td>\n",
       "      <td>3.89</td>\n",
       "      <td>3.84</td>\n",
       "      <td>2.31</td>\n",
       "    </tr>\n",
       "    <tr>\n",
       "      <th>2</th>\n",
       "      <td>3</td>\n",
       "      <td>0.23</td>\n",
       "      <td>Good</td>\n",
       "      <td>E</td>\n",
       "      <td>VS1</td>\n",
       "      <td>56.9</td>\n",
       "      <td>65.0</td>\n",
       "      <td>327</td>\n",
       "      <td>4.05</td>\n",
       "      <td>4.07</td>\n",
       "      <td>2.31</td>\n",
       "    </tr>\n",
       "    <tr>\n",
       "      <th>3</th>\n",
       "      <td>4</td>\n",
       "      <td>0.29</td>\n",
       "      <td>Premium</td>\n",
       "      <td>I</td>\n",
       "      <td>VS2</td>\n",
       "      <td>62.4</td>\n",
       "      <td>58.0</td>\n",
       "      <td>334</td>\n",
       "      <td>4.20</td>\n",
       "      <td>4.23</td>\n",
       "      <td>2.63</td>\n",
       "    </tr>\n",
       "    <tr>\n",
       "      <th>4</th>\n",
       "      <td>5</td>\n",
       "      <td>0.31</td>\n",
       "      <td>Good</td>\n",
       "      <td>J</td>\n",
       "      <td>SI2</td>\n",
       "      <td>63.3</td>\n",
       "      <td>58.0</td>\n",
       "      <td>335</td>\n",
       "      <td>4.34</td>\n",
       "      <td>4.35</td>\n",
       "      <td>2.75</td>\n",
       "    </tr>\n",
       "  </tbody>\n",
       "</table>\n",
       "</div>"
      ],
      "text/plain": [
       "   Unnamed: 0  carat      cut color clarity  depth  table  price     x     y   \n",
       "0           1   0.23    Ideal     E     SI2   61.5   55.0    326  3.95  3.98  \\\n",
       "1           2   0.21  Premium     E     SI1   59.8   61.0    326  3.89  3.84   \n",
       "2           3   0.23     Good     E     VS1   56.9   65.0    327  4.05  4.07   \n",
       "3           4   0.29  Premium     I     VS2   62.4   58.0    334  4.20  4.23   \n",
       "4           5   0.31     Good     J     SI2   63.3   58.0    335  4.34  4.35   \n",
       "\n",
       "      z  \n",
       "0  2.43  \n",
       "1  2.31  \n",
       "2  2.31  \n",
       "3  2.63  \n",
       "4  2.75  "
      ]
     },
     "execution_count": 119,
     "metadata": {},
     "output_type": "execute_result"
    }
   ],
   "source": [
    "diamonds_df.head()"
   ]
  },
  {
   "cell_type": "code",
   "execution_count": 120,
   "id": "fad21c95-f542-44ec-8f06-8f57fd42ddef",
   "metadata": {},
   "outputs": [
    {
     "data": {
      "image/png": "[encoded data removed]",
      "text/plain": [
       "<Figure size 640x480 with 1 Axes>"
      ]
     },
     "metadata": {},
     "output_type": "display_data"
    }
   ],
   "source": [
    "plt.hist(diamonds_df[\"price\"], bins=100)\n",
    "plt.grid()"
   ]
  },
  {
   "cell_type": "markdown",
   "id": "17ac44bb-86c7-424a-8b9b-0a21bf490683",
   "metadata": {},
   "source": [
    "# Подготовка данных"
   ]
  },
  {
   "cell_type": "code",
   "execution_count": 121,
   "id": "e19945ea-cecf-481e-a28b-3f9c11001918",
   "metadata": {},
   "outputs": [],
   "source": [
    "features = ['carat', 'cut', 'color',\n",
    "            'clarity', 'depth', 'table', 'x', 'y', 'z']\n",
    "target = ['price']"
   ]
  },
  {
   "cell_type": "code",
   "execution_count": 122,
   "id": "fbc43eb0-e77f-4765-8b0e-b9052c093855",
   "metadata": {},
   "outputs": [],
   "source": [
    "cut_transform = {'Fair': 0, 'Good': 1,\n",
    "                 'Very Good': 2, 'Premium': 3, 'Ideal': 4}\n",
    "clarity_transform = {'I1': 0, 'SI2': 1, 'SI1': 2,\n",
    "                     'VS2': 3, 'VS1': 4, 'VVS2': 5, 'VVS1': 6, 'IF': 7}\n",
    "color_transorm = {'D': 0, 'E': 1, 'F': 2, 'G': 3, 'H': 4, 'I': 5, 'J': 6}"
   ]
  },
  {
   "cell_type": "code",
   "execution_count": 123,
   "id": "6f82b34f-9ffc-478f-a103-b2cbbca49a94",
   "metadata": {},
   "outputs": [],
   "source": [
    "diamonds_df['cut'] = diamonds_df['cut'].apply(lambda x: cut_transform.get(x))\n",
    "diamonds_df['color'] = diamonds_df['color'].apply(\n",
    "    lambda x: color_transorm.get(x))\n",
    "diamonds_df['clarity'] = diamonds_df['clarity'].apply(\n",
    "    lambda x: clarity_transform.get(x))"
   ]
  },
  {
   "cell_type": "code",
   "execution_count": 124,
   "id": "8e5fa82b-92ed-4e79-adf2-422204b45e82",
   "metadata": {},
   "outputs": [],
   "source": [
    "X = diamonds_df[features].copy().values\n",
    "y = diamonds_df[target].values"
   ]
  },
  {
   "cell_type": "code",
   "execution_count": 125,
   "id": "baafcd96-b32e-469e-b354-fa0aba09db8f",
   "metadata": {},
   "outputs": [],
   "source": [
    "scaler = MinMaxScaler()\n",
    "X = scaler.fit_transform(X)"
   ]
  },
  {
   "cell_type": "code",
   "execution_count": 126,
   "id": "64c11d68-dc5c-4753-9cc4-3cc4e136f3cb",
   "metadata": {},
   "outputs": [],
   "source": [
    "X_train, X_test, y_train, y_test = train_test_split(\n",
    "    X, y, random_state=47, test_size=0.3\n",
    ")"
   ]
  },
  {
   "cell_type": "markdown",
   "id": "3b743ed1-d0cf-485d-b8f2-8c71fc174e8b",
   "metadata": {},
   "source": [
    "# Обучаем модель линейной регрессии"
   ]
  },
  {
   "cell_type": "code",
   "execution_count": 127,
   "id": "0068e36f-040e-4aa3-bb06-88aa95051478",
   "metadata": {},
   "outputs": [],
   "source": [
    "reg = LinearRegression().fit(X_train, y_train)"
   ]
  },
  {
   "cell_type": "code",
   "execution_count": 128,
   "id": "f968e336-4049-41b2-81d1-4c24f0969bbb",
   "metadata": {},
   "outputs": [],
   "source": [
    "y_pred = reg.predict(X_test)"
   ]
  },
  {
   "cell_type": "code",
   "execution_count": 129,
   "id": "0952990a-b3d6-4da4-9cc6-1ab3a7a25ac7",
   "metadata": {},
   "outputs": [],
   "source": [
    "score = r2_score(y_pred, y_test)"
   ]
  },
  {
   "cell_type": "code",
   "execution_count": 130,
   "id": "f89c3bbd-0a3a-48ac-b1ab-b75dc0c5bcce",
   "metadata": {},
   "outputs": [
    {
     "data": {
      "image/png": "[encoded data removed]",
      "text/plain": [
       "<Figure size 640x480 with 1 Axes>"
      ]
     },
     "metadata": {},
     "output_type": "display_data"
    }
   ],
   "source": [
    "plt.title(f\"R2: {str(score)[:5]}\")\n",
    "plt.hist(y_pred.reshape(1, -1)[0], bins=100, label=\"PREDICTION\")\n",
    "plt.hist(y_test.reshape(1, -1)[0], bins=100, label=\"GT\")\n",
    "plt.legend()\n",
    "plt.grid()"
   ]
  },
  {
   "cell_type": "markdown",
   "id": "7886f8b7-ba2e-4fde-8b91-f815ea961fe5",
   "metadata": {},
   "source": [
    "# Создаём модель MLP для задачи регрессии"
   ]
  },
  {
   "cell_type": "code",
   "execution_count": 131,
   "id": "516f4b49",
   "metadata": {},
   "outputs": [],
   "source": [
    "class Activation:\n",
    "    def forward(self, inp: np.ndarray) -> np.ndarray:\n",
    "        pass\n",
    "\n",
    "    def backward(self, inp: np.ndarray) -> np.ndarray:\n",
    "        pass\n",
    "\n",
    "\n",
    "class Linear(Activation):\n",
    "    def forward(self, inp: np.ndarray) -> np.ndarray:\n",
    "        return inp\n",
    "\n",
    "    def backward(self, inp: np.ndarray) -> np.ndarray:\n",
    "        return 1\n",
    "\n",
    "\n",
    "class LeakedReLu(Activation):\n",
    "    def __init__(self, alpha: float):\n",
    "        self.alpha = alpha\n",
    "\n",
    "    def forward(self, x: np.ndarray) -> np.ndarray:\n",
    "        return np.where(x > 0, x, self.alpha * x)\n",
    "\n",
    "    def backward(self, x: np.ndarray) -> np.ndarray:\n",
    "        return np.where(x > 0, 1, self.alpha)\n",
    "\n",
    "\n",
    "class Sigmoid(Activation):\n",
    "    def forward(self, x: np.ndarray) -> np.ndarray:\n",
    "        return self._sigmoid(x)\n",
    "\n",
    "    def backward(self, x: np.ndarray) -> np.ndarray:\n",
    "        return self._sigmoid(x) * (1 - self._sigmoid(x))\n",
    "\n",
    "    def _sigmoid(self, x: np.ndarray) -> np.ndarray:\n",
    "        return 1.0 / (1.0 + np.exp(-x))"
   ]
  },
  {
   "cell_type": "code",
   "execution_count": 132,
   "id": "701b875c",
   "metadata": {},
   "outputs": [],
   "source": [
    "class Layer:\n",
    "    def __init__(\n",
    "        self, prev_size: int, size: int, learning_rate: float, activation: Activation\n",
    "    ):\n",
    "        self.learning_rate = learning_rate\n",
    "        self.biases = np.random.rand(size).reshape(-1, 1) / 10\n",
    "        if prev_size is not None and prev_size != 0:\n",
    "            self.weights = np.random.rand(size, prev_size) / 10\n",
    "\n",
    "        self._activation = activation\n",
    "\n",
    "    def forward(self, input: np.ndarray) -> np.ndarray:\n",
    "        if input.ndim == 0:\n",
    "            self.neurons_input = self.weights * input + self.biases\n",
    "        else:\n",
    "            self.neurons_input = self.weights @ input + self.biases\n",
    "        return self._activation.forward(self.neurons_input)\n",
    "\n",
    "    def backward_with_update(\n",
    "        self, error: np.ndarray, prev_out: np.ndarray\n",
    "    ) -> np.ndarray:\n",
    "        dl_dout = error.reshape(-1, 1)\n",
    "        limit = 1\n",
    "        dl_dout = np.where(dl_dout < limit, dl_dout, limit)\n",
    "        dl_dout = np.where(dl_dout > -limit, dl_dout, -limit)\n",
    "\n",
    "        neurons_backward = dl_dout * \\\n",
    "            self._activation.backward(self.neurons_input)\n",
    "        neurons_backward = neurons_backward.reshape(-1)\n",
    "\n",
    "        dl_dw = np.outer(neurons_backward, prev_out)\n",
    "        dl_db = neurons_backward\n",
    "\n",
    "        dl_dout = self.weights.T @ neurons_backward\n",
    "\n",
    "        self.weights -= self.learning_rate * dl_dw\n",
    "        self.biases -= self.learning_rate * dl_db.reshape(-1, 1)\n",
    "\n",
    "        return dl_dout"
   ]
  },
  {
   "cell_type": "code",
   "execution_count": 144,
   "id": "51b7ef93-763a-4617-98e4-c2c98e2a12a5",
   "metadata": {},
   "outputs": [],
   "source": [
    "class MLPRegressor:\n",
    "    def __init__(\n",
    "        self,\n",
    "        hidden_layer_sizes: tuple = (100,),\n",
    "        learning_rate: float = 0.001,\n",
    "        max_iter: int = 10,\n",
    "        activation: Activation = Sigmoid(),\n",
    "    ):\n",
    "        self._learning_rate = learning_rate\n",
    "        self._max_iter = max_iter\n",
    "\n",
    "        self._layers = []\n",
    "\n",
    "        self._input_size = None\n",
    "        self._output_size = None\n",
    "\n",
    "        self._layers.append(\n",
    "            Layer(None, hidden_layer_sizes[0], learning_rate, activation)\n",
    "        )\n",
    "        for prev_size, curr_size in zip(hidden_layer_sizes, hidden_layer_sizes[1:]):\n",
    "            self._layers.append(Layer(prev_size, curr_size, learning_rate, activation))\n",
    "\n",
    "        self._loss = lambda actual, predicted: (actual - predicted) ** 2\n",
    "        self._loss_derivative = lambda actual, predicted: -2 * (actual - predicted)\n",
    "\n",
    "    def train(self, x: np.ndarray, y: np.ndarray):\n",
    "        if self._input_size is not None:\n",
    "            if x.ndim == 1:\n",
    "                assert (\n",
    "                    self._input_size == 1\n",
    "                ), \"Input size differs from its previous value!\"\n",
    "            else:\n",
    "                assert (\n",
    "                    self._input_size == x.shape[-1]\n",
    "                ), \"Input size differs from its previous value!\"\n",
    "            if y.ndim == 1:\n",
    "                assert (\n",
    "                    self._output_size == 1\n",
    "                ), \"output size differs from its previous value!\"\n",
    "            else:\n",
    "                assert (\n",
    "                    self._output_size == y.shape[-1]\n",
    "                ), \"output size differs from its previous value!\"\n",
    "        else:\n",
    "            self._init_knowing_sizes(x, y)\n",
    "\n",
    "        self._x_norm_coef = x.mean()\n",
    "        x = x / self._x_norm_coef\n",
    "\n",
    "        self._y_norm_coef = y.mean()\n",
    "        y = y / self._y_norm_coef\n",
    "\n",
    "        losses = []\n",
    "        for epoch in range(self._max_iter):\n",
    "            for inp, actual in zip(x, y):\n",
    "                predicted = self._forward(inp, True)\n",
    "                loss = self._loss(actual, predicted)\n",
    "                self._update_weights(actual, predicted)\n",
    "                losses.append(loss)\n",
    "\n",
    "        return losses\n",
    "\n",
    "    def predict(self, x: np.ndarray):\n",
    "        assert self._input_size is not None, \"Neural network must be trained first!\"\n",
    "        if x.ndim == 1:\n",
    "            assert (\n",
    "                self._input_size == 1\n",
    "            ), \"\"\"Input size differs from training! \n",
    "                    current = 1, during training = {self._input_size}\"\"\"\n",
    "        else:\n",
    "            assert (\n",
    "                self._input_size == x.shape[-1]\n",
    "            ), \"\"\"Input size differs from training! \n",
    "                    current = {x.shape[-1]}, during training = {self._input_size}\"\"\"\n",
    "\n",
    "        x /= self._x_norm_coef\n",
    "\n",
    "        result = []\n",
    "        if x.ndim == 2 or (x.ndim == 1 and self._input_size == 1):\n",
    "            for inp in x:\n",
    "                result.append(self._forward(inp))\n",
    "        else:\n",
    "            result = self._forward(x)\n",
    "\n",
    "        return np.array(result) * self._y_norm_coef\n",
    "\n",
    "    def _forward(self, single_input: np.ndarray, train: bool = False) -> np.ndarray:\n",
    "        assert single_input.ndim == 1 or single_input.ndim == 0\n",
    "\n",
    "        if train:\n",
    "            self._neurons_outputs = [single_input]\n",
    "\n",
    "        last_layer_out = single_input.reshape(-1, 1)\n",
    "\n",
    "        for layer in self._layers:\n",
    "            last_layer_out = layer.forward(last_layer_out)\n",
    "            if train:\n",
    "                self._neurons_outputs.append(last_layer_out)\n",
    "\n",
    "        return last_layer_out.reshape(-1)\n",
    "\n",
    "    def _update_weights(self, actual: np.ndarray, predicted: np.ndarray) -> None:\n",
    "        dl_dout = self._loss_derivative(actual, predicted)\n",
    "\n",
    "        for i in range(len(self._layers) - 1, -1, -1):\n",
    "            dl_dout = self._layers[i].backward_with_update(\n",
    "                dl_dout, self._neurons_outputs[i]\n",
    "            )\n",
    "\n",
    "    def _init_knowing_sizes(self, x: np.ndarray, y: np.ndarray) -> None:\n",
    "        if x.ndim == 1:\n",
    "            self._input_size = 1\n",
    "        else:\n",
    "            self._input_size = x.shape[1]\n",
    "        first_layer_size = self._layers[0].biases.size\n",
    "        self._layers[0].weights = (\n",
    "            np.random.rand(first_layer_size, self._input_size) / 10\n",
    "        )\n",
    "\n",
    "        if y.ndim == 1:\n",
    "            self._output_size = 1\n",
    "        else:\n",
    "            self._output_size = y.shape[1]\n",
    "        last_layer_size = self._layers[-1].biases.size\n",
    "        self._layers.append(\n",
    "            Layer(last_layer_size, self._output_size, self._learning_rate, Linear())\n",
    "        )"
   ]
  },
  {
   "cell_type": "markdown",
   "id": "2afb2d95-c521-406d-b601-0baf84cb4a54",
   "metadata": {},
   "source": [
    "# Обучаем модель MLP на выборке Diamonds"
   ]
  },
  {
   "cell_type": "code",
   "execution_count": 145,
   "id": "2df8e839-fb8e-4cf7-84de-5637609bfbbb",
   "metadata": {},
   "outputs": [],
   "source": [
    "my_nn = MLPRegressor((100, 30), max_iter=5)"
   ]
  },
  {
   "cell_type": "code",
   "execution_count": 146,
   "id": "1c81b8ba",
   "metadata": {},
   "outputs": [],
   "source": [
    "losses = my_nn.train(X_train, y_train)"
   ]
  },
  {
   "cell_type": "code",
   "execution_count": null,
   "id": "7f649d92",
   "metadata": {},
   "outputs": [
    {
     "data": {
      "text/plain": [
       "(0.0, 100000000.0)"
      ]
     },
     "execution_count": 44,
     "metadata": {},
     "output_type": "execute_result"
    },
    {
     "data": {
      "image/png": "[encoded data removed]",
      "text/plain": [
       "<Figure size 640x480 with 1 Axes>"
      ]
     },
     "metadata": {},
     "output_type": "display_data"
    }
   ],
   "source": [
    "plt.plot(np.array(losses)[:, 0])\n",
    "plt.ylim((0, 1e8))"
   ]
  },
  {
   "cell_type": "markdown",
   "id": "7c781653",
   "metadata": {},
   "source": [
    "# Проверяем модель MLP на выборке Diamonds"
   ]
  },
  {
   "cell_type": "code",
   "execution_count": null,
   "id": "e32d807e",
   "metadata": {},
   "outputs": [],
   "source": [
    "my_pred = my_nn.predict(X_test)\n",
    "my_score = r2_score(my_pred, y_test)"
   ]
  },
  {
   "cell_type": "code",
   "execution_count": null,
   "id": "c0eb5c62",
   "metadata": {},
   "outputs": [
    {
     "data": {
      "image/png": "[encoded data removed]",
      "text/plain": [
       "<Figure size 640x480 with 1 Axes>"
      ]
     },
     "metadata": {},
     "output_type": "display_data"
    }
   ],
   "source": [
    "plt.title(f\"R2: {str(my_score)[:5]}\")\n",
    "plt.hist(my_pred.reshape(1, -1)[0], bins=100, label=\"PREDICTION\")\n",
    "plt.hist(y_test.reshape(1, -1)[0], bins=100, label=\"GT\")\n",
    "plt.legend()\n",
    "plt.grid()"
   ]
  },
  {
   "cell_type": "code",
   "execution_count": null,
   "id": "832a5c96",
   "metadata": {},
   "outputs": [
    {
     "data": {
      "text/plain": [
       "array([[0.],\n",
       "       [0.],\n",
       "       [0.],\n",
       "       ...,\n",
       "       [0.],\n",
       "       [0.],\n",
       "       [0.]])"
      ]
     },
     "execution_count": 47,
     "metadata": {},
     "output_type": "execute_result"
    }
   ],
   "source": [
    "my_pred"
   ]
  },
  {
   "cell_type": "markdown",
   "id": "842e9202",
   "metadata": {},
   "source": [
    "# my test"
   ]
  },
  {
   "cell_type": "code",
   "execution_count": 136,
   "id": "f09622a2",
   "metadata": {},
   "outputs": [],
   "source": [
    "nn_test = MLPRegressor((100, 30), max_iter=5)"
   ]
  },
  {
   "cell_type": "code",
   "execution_count": 137,
   "id": "56a83ccf",
   "metadata": {},
   "outputs": [],
   "source": [
    "my_x = np.linspace((0, 0), (1000, 1000), 100)\n",
    "my_y = my_x * my_x + 2 * my_x + 1"
   ]
  },
  {
   "cell_type": "code",
   "execution_count": 141,
   "id": "22547cee",
   "metadata": {},
   "outputs": [
    {
     "data": {
      "image/png": "[encoded data removed]",
      "text/plain": [
       "<Figure size 640x480 with 1 Axes>"
      ]
     },
     "metadata": {},
     "output_type": "display_data"
    },
    {
     "ename": "ValueError",
     "evalue": "x, y, and format string must not be None",
     "output_type": "error",
     "traceback": [
      "\u001b[1;31m---------------------------------------------------------------------------\u001b[0m",
      "\u001b[1;31mValueError\u001b[0m                                Traceback (most recent call last)",
      "\u001b[1;32me:\\repositories\\vk_park\\dl_sem2\\lecture1_hw.ipynb Cell 34\u001b[0m line \u001b[0;36m2\n\u001b[0;32m      <a href='vscode-notebook-cell:/e%3A/repositories/vk_park/dl_sem2/lecture1_hw.ipynb#X46sZmlsZQ%3D%3D?line=0'>1</a>\u001b[0m ll \u001b[39m=\u001b[39m nn_test\u001b[39m.\u001b[39mtrain(my_x, my_y)\n\u001b[1;32m----> <a href='vscode-notebook-cell:/e%3A/repositories/vk_park/dl_sem2/lecture1_hw.ipynb#X46sZmlsZQ%3D%3D?line=1'>2</a>\u001b[0m plt\u001b[39m.\u001b[39;49mplot(ll)\n\u001b[0;32m      <a href='vscode-notebook-cell:/e%3A/repositories/vk_park/dl_sem2/lecture1_hw.ipynb#X46sZmlsZQ%3D%3D?line=2'>3</a>\u001b[0m plt\u001b[39m.\u001b[39mylim((\u001b[39m0\u001b[39m, \u001b[39m1e7\u001b[39m))\n",
      "File \u001b[1;32mc:\\Users\\Sasha.WIN7PC\\AppData\\Local\\Programs\\Python\\Python311\\Lib\\site-packages\\matplotlib\\pyplot.py:2812\u001b[0m, in \u001b[0;36mplot\u001b[1;34m(scalex, scaley, data, *args, **kwargs)\u001b[0m\n\u001b[0;32m   2810\u001b[0m \u001b[39m@_copy_docstring_and_deprecators\u001b[39m(Axes\u001b[39m.\u001b[39mplot)\n\u001b[0;32m   2811\u001b[0m \u001b[39mdef\u001b[39;00m \u001b[39mplot\u001b[39m(\u001b[39m*\u001b[39margs, scalex\u001b[39m=\u001b[39m\u001b[39mTrue\u001b[39;00m, scaley\u001b[39m=\u001b[39m\u001b[39mTrue\u001b[39;00m, data\u001b[39m=\u001b[39m\u001b[39mNone\u001b[39;00m, \u001b[39m*\u001b[39m\u001b[39m*\u001b[39mkwargs):\n\u001b[1;32m-> 2812\u001b[0m     \u001b[39mreturn\u001b[39;00m gca()\u001b[39m.\u001b[39;49mplot(\n\u001b[0;32m   2813\u001b[0m         \u001b[39m*\u001b[39;49margs, scalex\u001b[39m=\u001b[39;49mscalex, scaley\u001b[39m=\u001b[39;49mscaley,\n\u001b[0;32m   2814\u001b[0m         \u001b[39m*\u001b[39;49m\u001b[39m*\u001b[39;49m({\u001b[39m\"\u001b[39;49m\u001b[39mdata\u001b[39;49m\u001b[39m\"\u001b[39;49m: data} \u001b[39mif\u001b[39;49;00m data \u001b[39mis\u001b[39;49;00m \u001b[39mnot\u001b[39;49;00m \u001b[39mNone\u001b[39;49;00m \u001b[39melse\u001b[39;49;00m {}), \u001b[39m*\u001b[39;49m\u001b[39m*\u001b[39;49mkwargs)\n",
      "File \u001b[1;32mc:\\Users\\Sasha.WIN7PC\\AppData\\Local\\Programs\\Python\\Python311\\Lib\\site-packages\\matplotlib\\axes\\_axes.py:1688\u001b[0m, in \u001b[0;36mAxes.plot\u001b[1;34m(self, scalex, scaley, data, *args, **kwargs)\u001b[0m\n\u001b[0;32m   1445\u001b[0m \u001b[39m\u001b[39m\u001b[39m\"\"\"\u001b[39;00m\n\u001b[0;32m   1446\u001b[0m \u001b[39mPlot y versus x as lines and/or markers.\u001b[39;00m\n\u001b[0;32m   1447\u001b[0m \n\u001b[1;32m   (...)\u001b[0m\n\u001b[0;32m   1685\u001b[0m \u001b[39m(``'green'``) or hex strings (``'#008000'``).\u001b[39;00m\n\u001b[0;32m   1686\u001b[0m \u001b[39m\"\"\"\u001b[39;00m\n\u001b[0;32m   1687\u001b[0m kwargs \u001b[39m=\u001b[39m cbook\u001b[39m.\u001b[39mnormalize_kwargs(kwargs, mlines\u001b[39m.\u001b[39mLine2D)\n\u001b[1;32m-> 1688\u001b[0m lines \u001b[39m=\u001b[39m [\u001b[39m*\u001b[39m\u001b[39mself\u001b[39m\u001b[39m.\u001b[39m_get_lines(\u001b[39m*\u001b[39margs, data\u001b[39m=\u001b[39mdata, \u001b[39m*\u001b[39m\u001b[39m*\u001b[39mkwargs)]\n\u001b[0;32m   1689\u001b[0m \u001b[39mfor\u001b[39;00m line \u001b[39min\u001b[39;00m lines:\n\u001b[0;32m   1690\u001b[0m     \u001b[39mself\u001b[39m\u001b[39m.\u001b[39madd_line(line)\n",
      "File \u001b[1;32mc:\\Users\\Sasha.WIN7PC\\AppData\\Local\\Programs\\Python\\Python311\\Lib\\site-packages\\matplotlib\\axes\\_base.py:311\u001b[0m, in \u001b[0;36m_process_plot_var_args.__call__\u001b[1;34m(self, data, *args, **kwargs)\u001b[0m\n\u001b[0;32m    309\u001b[0m     this \u001b[39m+\u001b[39m\u001b[39m=\u001b[39m args[\u001b[39m0\u001b[39m],\n\u001b[0;32m    310\u001b[0m     args \u001b[39m=\u001b[39m args[\u001b[39m1\u001b[39m:]\n\u001b[1;32m--> 311\u001b[0m \u001b[39myield from\u001b[39;00m \u001b[39mself\u001b[39;49m\u001b[39m.\u001b[39;49m_plot_args(\n\u001b[0;32m    312\u001b[0m     this, kwargs, ambiguous_fmt_datakey\u001b[39m=\u001b[39;49mambiguous_fmt_datakey)\n",
      "File \u001b[1;32mc:\\Users\\Sasha.WIN7PC\\AppData\\Local\\Programs\\Python\\Python311\\Lib\\site-packages\\matplotlib\\axes\\_base.py:465\u001b[0m, in \u001b[0;36m_process_plot_var_args._plot_args\u001b[1;34m(self, tup, kwargs, return_kwargs, ambiguous_fmt_datakey)\u001b[0m\n\u001b[0;32m    462\u001b[0m \u001b[39m# Don't allow any None value; these would be up-converted to one\u001b[39;00m\n\u001b[0;32m    463\u001b[0m \u001b[39m# element array of None which causes problems downstream.\u001b[39;00m\n\u001b[0;32m    464\u001b[0m \u001b[39mif\u001b[39;00m \u001b[39many\u001b[39m(v \u001b[39mis\u001b[39;00m \u001b[39mNone\u001b[39;00m \u001b[39mfor\u001b[39;00m v \u001b[39min\u001b[39;00m tup):\n\u001b[1;32m--> 465\u001b[0m     \u001b[39mraise\u001b[39;00m \u001b[39mValueError\u001b[39;00m(\u001b[39m\"\u001b[39m\u001b[39mx, y, and format string must not be None\u001b[39m\u001b[39m\"\u001b[39m)\n\u001b[0;32m    467\u001b[0m kw \u001b[39m=\u001b[39m {}\n\u001b[0;32m    468\u001b[0m \u001b[39mfor\u001b[39;00m prop_name, val \u001b[39min\u001b[39;00m \u001b[39mzip\u001b[39m((\u001b[39m'\u001b[39m\u001b[39mlinestyle\u001b[39m\u001b[39m'\u001b[39m, \u001b[39m'\u001b[39m\u001b[39mmarker\u001b[39m\u001b[39m'\u001b[39m, \u001b[39m'\u001b[39m\u001b[39mcolor\u001b[39m\u001b[39m'\u001b[39m),\n\u001b[0;32m    469\u001b[0m                           (linestyle, marker, color)):\n",
      "\u001b[1;31mValueError\u001b[0m: x, y, and format string must not be None"
     ]
    },
    {
     "data": {
      "image/png": "[encoded data removed]",
      "text/plain": [
       "<Figure size 640x480 with 1 Axes>"
      ]
     },
     "metadata": {},
     "output_type": "display_data"
    }
   ],
   "source": [
    "ll = nn_test.train(my_x, my_y)\n",
    "plt.plot(np.array(ll)[:, 0])\n",
    "plt.plot(np.array(ll)[:, 1])\n",
    "plt.ylim((0, 1e7))"
   ]
  },
  {
   "cell_type": "code",
   "execution_count": null,
   "id": "b260acf5",
   "metadata": {},
   "outputs": [
    {
     "data": {
      "text/plain": [
       "array([[nan, nan],\n",
       "       [nan, nan],\n",
       "       [nan, nan],\n",
       "       [nan, nan],\n",
       "       [nan, nan],\n",
       "       [nan, nan],\n",
       "       [nan, nan],\n",
       "       [nan, nan],\n",
       "       [nan, nan],\n",
       "       [nan, nan],\n",
       "       [nan, nan],\n",
       "       [nan, nan],\n",
       "       [nan, nan],\n",
       "       [nan, nan],\n",
       "       [nan, nan],\n",
       "       [nan, nan],\n",
       "       [nan, nan],\n",
       "       [nan, nan],\n",
       "       [nan, nan],\n",
       "       [nan, nan],\n",
       "       [nan, nan],\n",
       "       [nan, nan],\n",
       "       [nan, nan],\n",
       "       [nan, nan],\n",
       "       [nan, nan],\n",
       "       [nan, nan],\n",
       "       [nan, nan],\n",
       "       [nan, nan],\n",
       "       [nan, nan],\n",
       "       [nan, nan],\n",
       "       [nan, nan],\n",
       "       [nan, nan],\n",
       "       [nan, nan],\n",
       "       [nan, nan],\n",
       "       [nan, nan],\n",
       "       [nan, nan],\n",
       "       [nan, nan],\n",
       "       [nan, nan],\n",
       "       [nan, nan],\n",
       "       [nan, nan],\n",
       "       [nan, nan],\n",
       "       [nan, nan],\n",
       "       [nan, nan],\n",
       "       [nan, nan],\n",
       "       [nan, nan],\n",
       "       [nan, nan],\n",
       "       [nan, nan],\n",
       "       [nan, nan],\n",
       "       [nan, nan],\n",
       "       [nan, nan],\n",
       "       [nan, nan],\n",
       "       [nan, nan],\n",
       "       [nan, nan],\n",
       "       [nan, nan],\n",
       "       [nan, nan],\n",
       "       [nan, nan],\n",
       "       [nan, nan],\n",
       "       [nan, nan],\n",
       "       [nan, nan],\n",
       "       [nan, nan],\n",
       "       [nan, nan],\n",
       "       [nan, nan],\n",
       "       [nan, nan],\n",
       "       [nan, nan],\n",
       "       [nan, nan],\n",
       "       [nan, nan],\n",
       "       [nan, nan],\n",
       "       [nan, nan],\n",
       "       [nan, nan],\n",
       "       [nan, nan],\n",
       "       [nan, nan],\n",
       "       [nan, nan],\n",
       "       [nan, nan],\n",
       "       [nan, nan],\n",
       "       [nan, nan],\n",
       "       [nan, nan],\n",
       "       [nan, nan],\n",
       "       [nan, nan],\n",
       "       [nan, nan],\n",
       "       [nan, nan],\n",
       "       [nan, nan],\n",
       "       [nan, nan],\n",
       "       [nan, nan],\n",
       "       [nan, nan],\n",
       "       [nan, nan],\n",
       "       [nan, nan],\n",
       "       [nan, nan],\n",
       "       [nan, nan],\n",
       "       [nan, nan],\n",
       "       [nan, nan],\n",
       "       [nan, nan],\n",
       "       [nan, nan],\n",
       "       [nan, nan],\n",
       "       [nan, nan],\n",
       "       [nan, nan],\n",
       "       [nan, nan],\n",
       "       [nan, nan],\n",
       "       [nan, nan],\n",
       "       [nan, nan],\n",
       "       [nan, nan]])"
      ]
     },
     "execution_count": 116,
     "metadata": {},
     "output_type": "execute_result"
    }
   ],
   "source": [
    "nn_test._layers[0].weights"
   ]
  }
 ],
 "metadata": {
  "kernelspec": {
   "display_name": "Python 3",
   "language": "python",
   "name": "python3"
  },
  "language_info": {
   "codemirror_mode": {
    "name": "ipython",
    "version": 3
   },
   "file_extension": ".py",
   "mimetype": "text/x-python",
   "name": "python",
   "nbconvert_exporter": "python",
   "pygments_lexer": "ipython3",
   "version": "3.11.3"
  }
 },
 "nbformat": 4,
 "nbformat_minor": 5
}
